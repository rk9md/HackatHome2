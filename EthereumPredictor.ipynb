{
  "nbformat": 4,
  "nbformat_minor": 0,
  "metadata": {
    "colab": {
      "name": "EthereumPredictor.ipynb",
      "provenance": [],
      "collapsed_sections": [
        "noqXH20ifp2d"
      ],
      "toc_visible": true
    },
    "kernelspec": {
      "name": "python3",
      "display_name": "Python 3"
    },
    "language_info": {
      "name": "python"
    },
    "accelerator": "TPU"
  },
  "cells": [
    {
      "cell_type": "markdown",
      "metadata": {
        "id": "XauKvulGEC2Y"
      },
      "source": [
        "# To the Moon\n",
        "### Using a Linear Regressor and Recurrent Neural Network to forecast Cryptocurrency prices.\n",
        "\n",
        "Hack@Home 2\n",
        "\n",
        "Nicholas Lin, Neha Pattanaik, Raghav Khator, Nikitha Seri\n"
      ]
    },
    {
      "cell_type": "markdown",
      "metadata": {
        "id": "tEo08cbU2eOD"
      },
      "source": [
        "# Connecting to Anvil\n"
      ]
    },
    {
      "cell_type": "code",
      "metadata": {
        "colab": {
          "base_uri": "https://localhost:8080/",
          "height": 415
        },
        "id": "RxD_QrhT8cNg",
        "outputId": "8f76e24b-84a6-4cc7-f7f6-9702a8b836b7"
      },
      "source": [
        "!pip install anvil-uplink"
      ],
      "execution_count": null,
      "outputs": [
        {
          "output_type": "stream",
          "text": [
            "Collecting anvil-uplink\n",
            "\u001b[?25l  Downloading https://files.pythonhosted.org/packages/9a/65/776713490bfd5145ddb87834355bf7936bd233b273098e37dc12f1ac253c/anvil_uplink-0.3.36-py2.py3-none-any.whl (61kB)\n",
            "\r\u001b[K     |█████▍                          | 10kB 13.3MB/s eta 0:00:01\r\u001b[K     |██████████▊                     | 20kB 16.6MB/s eta 0:00:01\r\u001b[K     |████████████████                | 30kB 19.0MB/s eta 0:00:01\r\u001b[K     |█████████████████████▍          | 40kB 20.8MB/s eta 0:00:01\r\u001b[K     |██████████████████████████▊     | 51kB 7.0MB/s eta 0:00:01\r\u001b[K     |████████████████████████████████| 61kB 4.0MB/s \n",
            "\u001b[?25hCollecting argparse\n",
            "  Downloading https://files.pythonhosted.org/packages/f2/94/3af39d34be01a24a6e65433d19e107099374224905f1e0cc6bbe1fd22a2f/argparse-1.4.0-py2.py3-none-any.whl\n",
            "Requirement already satisfied: future in /usr/local/lib/python3.7/dist-packages (from anvil-uplink) (0.16.0)\n",
            "Collecting ws4py\n",
            "\u001b[?25l  Downloading https://files.pythonhosted.org/packages/53/20/4019a739b2eefe9282d3822ef6a225250af964b117356971bd55e274193c/ws4py-0.5.1.tar.gz (51kB)\n",
            "\u001b[K     |████████████████████████████████| 61kB 6.9MB/s \n",
            "\u001b[?25hRequirement already satisfied: six in /usr/local/lib/python3.7/dist-packages (from anvil-uplink) (1.15.0)\n",
            "Building wheels for collected packages: ws4py\n",
            "  Building wheel for ws4py (setup.py) ... \u001b[?25l\u001b[?25hdone\n",
            "  Created wheel for ws4py: filename=ws4py-0.5.1-cp37-none-any.whl size=45216 sha256=b53d56730564e15f1e9529aa179af7c77dcf8f5b26d59c35f2657b4b2d3a0c98\n",
            "  Stored in directory: /root/.cache/pip/wheels/a2/6e/4e/8b0ae12fb9b8a05715256952cf7609a8ab86285fab99b88c68\n",
            "Successfully built ws4py\n",
            "Installing collected packages: argparse, ws4py, anvil-uplink\n",
            "Successfully installed anvil-uplink-0.3.36 argparse-1.4.0 ws4py-0.5.1\n"
          ],
          "name": "stdout"
        },
        {
          "output_type": "display_data",
          "data": {
            "application/vnd.colab-display-data+json": {
              "pip_warning": {
                "packages": [
                  "argparse",
                  "google"
                ]
              }
            }
          },
          "metadata": {
            "tags": []
          }
        }
      ]
    },
    {
      "cell_type": "code",
      "metadata": {
        "id": "cQBv3dwW8jt8",
        "colab": {
          "base_uri": "https://localhost:8080/"
        },
        "outputId": "a8f0bb73-3e9f-4f90-c6aa-56831bb5c25f"
      },
      "source": [
        "import anvil.server\n",
        "anvil.server.connect(\"HD5JPQDE6IAW6OQNF7ZTTT7D-A6DQANVCHGCFT2RD\")"
      ],
      "execution_count": null,
      "outputs": [
        {
          "output_type": "stream",
          "text": [
            "Connecting to wss://anvil.works/uplink\n",
            "Anvil websocket open\n",
            "Connected to \"Default environment (dev)\" as SERVER\n"
          ],
          "name": "stdout"
        }
      ]
    },
    {
      "cell_type": "code",
      "metadata": {
        "id": "5dAB4Ys28yFr"
      },
      "source": [
        "@anvil.server.callable\n",
        "def predict_coin(date):\n",
        "  date = str(date)\n",
        "  if \"2016-05-09\"<=date<=\"2021-07-30\":\n",
        "    from six.moves import urllib\n",
        "    import numpy as np\n",
        "    import pandas as pd\n",
        "    url = \"https://raw.githubusercontent.com/rk9md/HackatHome2/master/ETHPredictions.csv\"\n",
        "    csv_path = \"ETHPredictions.csv\"\n",
        "    urllib.request.urlretrieve(url, csv_path)\n",
        "    EthTable = pd.read_csv(csv_path, index_col=0)\n",
        "    return EthTable[\"Close\"][date]\n"
      ],
      "execution_count": 407,
      "outputs": []
    },
    {
      "cell_type": "code",
      "metadata": {
        "id": "CYzjuHlkKcGy"
      },
      "source": [
        "@anvil.server.callable\n",
        "def return_plot():\n",
        "  return time_plot"
      ],
      "execution_count": null,
      "outputs": []
    },
    {
      "cell_type": "code",
      "metadata": {
        "id": "QbzBLdZ_rwrV"
      },
      "source": [
        "#litecoin\n",
        "@anvil.server.callable\n",
        "def predict_lite(date):\n",
        "  date = str(date)\n",
        "  if \"2018-10-16\"<=date<=\"2021-07-30\":\n",
        "    from six.moves import urllib\n",
        "    import numpy as np\n",
        "    import pandas as pd\n",
        "    url = \"https://raw.githubusercontent.com/rk9md/HackatHome2/master/LTCPredictions.csv\"\n",
        "    csv_path = \"LTCPredictions.csv\"\n",
        "    urllib.request.urlretrieve(url, csv_path)\n",
        "    LtcTable = pd.read_csv(csv_path, index_col=0)\n",
        "    return LtcTable[\"Close\"][date]"
      ],
      "execution_count": 413,
      "outputs": []
    },
    {
      "cell_type": "code",
      "metadata": {
        "id": "8T6_PVwm2Iv1"
      },
      "source": [
        "#bitcoin\n",
        "@anvil.server.callable\n",
        "def predict_bit(date):\n",
        "  date = str(date)\n",
        "  if \"2015-10-08\"<=date<=\"2021-07-30\":\n",
        "    from six.moves import urllib\n",
        "    import numpy as np\n",
        "    import pandas as pd\n",
        "    url = \"https://raw.githubusercontent.com/rk9md/HackatHome2/master/BTCPredictions.csv\"\n",
        "    csv_path = \"BTCPredictions.csv\"\n",
        "    urllib.request.urlretrieve(url, csv_path)\n",
        "    BtcTable = pd.read_csv(csv_path, index_col=0)\n",
        "    return BtcTable[\"Close\"][date]"
      ],
      "execution_count": 412,
      "outputs": []
    },
    {
      "cell_type": "markdown",
      "metadata": {
        "id": "2bbDN1oR5fFX"
      },
      "source": [
        "## Explanation\n",
        "\n",
        "Cryptocurrency is a new asset class that is hoping to change the way finance works today. Bitcoin was the first cryptocurrency and was created as a peer to peer currency. However, with the recent rise in Bitcoin's prices and the nature of its blockchain network, the network fees for sending Bitcoin has skyrocketed and it has turned into a store of value, similar to gold. To solve the problem of high network fees, Litecoin was created. With low network fees, sending Litecoin is cheaper and faster than Bitcoin. Since it is faster and cheaper than Bitcoin, Litecoin is closer to a digital currency than a store of value. Ethereum is another cryptocurrency created on the premise of having programmable money. Ethereum introduced the concept of smart contracts which essentially created strict rules for how tokens and services can be provided over the Ethereum network. All three of these coins are traded daily so we made a machine learning model to predict the prices of the coins through the next 90 days. \n",
        "\n",
        "For our project, we used the publicly available dataset from https://www.cryptodatadownload.com/data/gemini/. The dataset contains the market data from the Gemini exchange."
      ]
    },
    {
      "cell_type": "code",
      "metadata": {
        "id": "VhuLcF-KrwmQ"
      },
      "source": [
        "import sklearn \n",
        "import numpy as np\n",
        "import pandas as pd\n",
        "import matplotlib.pyplot as plt\n",
        "\n",
        "from pandas.plotting import scatter_matrix # optional\n",
        "from sklearn.impute import SimpleImputer\n",
        "from sklearn.preprocessing import LabelEncoder\n",
        "from sklearn.preprocessing import OneHotEncoder\n",
        "from sklearn.pipeline import Pipeline\n",
        "from sklearn.preprocessing import StandardScaler\n",
        "pd.set_option('max_colwidth', 400)\n",
        "\n",
        "seed=42\n",
        "np.random.seed(seed)"
      ],
      "execution_count": null,
      "outputs": []
    },
    {
      "cell_type": "code",
      "metadata": {
        "id": "cXIAJerdtdOc"
      },
      "source": [
        "csv_path = \"gemini_BTCUSD_day.csv\"\n",
        "usd = pd.read_csv(csv_path)\n",
        "usd.rename(columns={'Unix Timestamp':'Unix_Timestamp'}, inplace=True)\n"
      ],
      "execution_count": 362,
      "outputs": []
    },
    {
      "cell_type": "markdown",
      "metadata": {
        "id": "vasNmvCPjA6G"
      },
      "source": [
        "## Visualizing the Data\n",
        "\n",
        "The first step we took in creating our predictor was visualizing the data to gain a better understanding of the dataset.\n",
        "\n",
        "The variables are described below (prices are in USD):\n",
        "\n",
        "Unix Timestamp - Unix Timestamp of date of trade\n",
        "\n",
        "Date - Date in EST \n",
        "\n",
        "Symbol - Symbol is the coin's ticket\n",
        "\n",
        "Open - The price of the coin at the opening of the market that day\n",
        "\n",
        "High - The highest price that the coin was traded for that day\n",
        "\n",
        "Low - The lowest price that the coin was traded for that day\n",
        "\n",
        "Close - The price of the coin at the closing time of the market that day\n",
        "\n",
        "Volume - The amount of the coin traded"
      ]
    },
    {
      "cell_type": "code",
      "metadata": {
        "colab": {
          "base_uri": "https://localhost:8080/",
          "height": 359
        },
        "id": "hDn1E3W96mMX",
        "outputId": "08e08f4f-342c-4aa0-dd36-8804b56621b6"
      },
      "source": [
        "usd = usd.sort_values(by=['Unix_Timestamp'], ascending=True)\n",
        "usd.head(10)"
      ],
      "execution_count": 363,
      "outputs": [
        {
          "output_type": "execute_result",
          "data": {
            "text/html": [
              "<div>\n",
              "<style scoped>\n",
              "    .dataframe tbody tr th:only-of-type {\n",
              "        vertical-align: middle;\n",
              "    }\n",
              "\n",
              "    .dataframe tbody tr th {\n",
              "        vertical-align: top;\n",
              "    }\n",
              "\n",
              "    .dataframe thead th {\n",
              "        text-align: right;\n",
              "    }\n",
              "</style>\n",
              "<table border=\"1\" class=\"dataframe\">\n",
              "  <thead>\n",
              "    <tr style=\"text-align: right;\">\n",
              "      <th></th>\n",
              "      <th>Unix_Timestamp</th>\n",
              "      <th>Date</th>\n",
              "      <th>Symbol</th>\n",
              "      <th>Open</th>\n",
              "      <th>High</th>\n",
              "      <th>Low</th>\n",
              "      <th>Close</th>\n",
              "      <th>Volume</th>\n",
              "    </tr>\n",
              "  </thead>\n",
              "  <tbody>\n",
              "    <tr>\n",
              "      <th>2032</th>\n",
              "      <td>1.444277e+09</td>\n",
              "      <td>10/8/2015 4:00</td>\n",
              "      <td>BTCUSD</td>\n",
              "      <td>0.00</td>\n",
              "      <td>245.00</td>\n",
              "      <td>0.00</td>\n",
              "      <td>243.60</td>\n",
              "      <td>34.754703</td>\n",
              "    </tr>\n",
              "    <tr>\n",
              "      <th>2031</th>\n",
              "      <td>1.444363e+09</td>\n",
              "      <td>10/9/2015 4:00</td>\n",
              "      <td>BTCUSD</td>\n",
              "      <td>243.60</td>\n",
              "      <td>249.97</td>\n",
              "      <td>243.60</td>\n",
              "      <td>245.51</td>\n",
              "      <td>61.587068</td>\n",
              "    </tr>\n",
              "    <tr>\n",
              "      <th>2030</th>\n",
              "      <td>1.444450e+09</td>\n",
              "      <td>10/10/2015 4:00</td>\n",
              "      <td>BTCUSD</td>\n",
              "      <td>245.51</td>\n",
              "      <td>246.30</td>\n",
              "      <td>244.60</td>\n",
              "      <td>246.30</td>\n",
              "      <td>30.870549</td>\n",
              "    </tr>\n",
              "    <tr>\n",
              "      <th>2029</th>\n",
              "      <td>1.444536e+09</td>\n",
              "      <td>10/11/2015 4:00</td>\n",
              "      <td>BTCUSD</td>\n",
              "      <td>246.30</td>\n",
              "      <td>249.50</td>\n",
              "      <td>245.96</td>\n",
              "      <td>248.98</td>\n",
              "      <td>22.747091</td>\n",
              "    </tr>\n",
              "    <tr>\n",
              "      <th>2028</th>\n",
              "      <td>1.444622e+09</td>\n",
              "      <td>10/12/2015 4:00</td>\n",
              "      <td>BTCUSD</td>\n",
              "      <td>248.98</td>\n",
              "      <td>248.98</td>\n",
              "      <td>245.75</td>\n",
              "      <td>245.75</td>\n",
              "      <td>71.047743</td>\n",
              "    </tr>\n",
              "    <tr>\n",
              "      <th>2027</th>\n",
              "      <td>1.444709e+09</td>\n",
              "      <td>10/13/2015 4:00</td>\n",
              "      <td>BTCUSD</td>\n",
              "      <td>245.75</td>\n",
              "      <td>252.87</td>\n",
              "      <td>245.75</td>\n",
              "      <td>251.00</td>\n",
              "      <td>154.686596</td>\n",
              "    </tr>\n",
              "    <tr>\n",
              "      <th>2026</th>\n",
              "      <td>1.444795e+09</td>\n",
              "      <td>10/14/2015 4:00</td>\n",
              "      <td>BTCUSD</td>\n",
              "      <td>251.00</td>\n",
              "      <td>256.15</td>\n",
              "      <td>250.70</td>\n",
              "      <td>254.59</td>\n",
              "      <td>184.552069</td>\n",
              "    </tr>\n",
              "    <tr>\n",
              "      <th>2025</th>\n",
              "      <td>1.444882e+09</td>\n",
              "      <td>10/15/2015 4:00</td>\n",
              "      <td>BTCUSD</td>\n",
              "      <td>254.59</td>\n",
              "      <td>258.98</td>\n",
              "      <td>253.00</td>\n",
              "      <td>257.19</td>\n",
              "      <td>410.961930</td>\n",
              "    </tr>\n",
              "    <tr>\n",
              "      <th>2024</th>\n",
              "      <td>1.444968e+09</td>\n",
              "      <td>10/16/2015 4:00</td>\n",
              "      <td>BTCUSD</td>\n",
              "      <td>257.19</td>\n",
              "      <td>285.00</td>\n",
              "      <td>255.90</td>\n",
              "      <td>270.00</td>\n",
              "      <td>552.129457</td>\n",
              "    </tr>\n",
              "    <tr>\n",
              "      <th>2023</th>\n",
              "      <td>1.445054e+09</td>\n",
              "      <td>10/17/2015 4:00</td>\n",
              "      <td>BTCUSD</td>\n",
              "      <td>270.00</td>\n",
              "      <td>274.98</td>\n",
              "      <td>267.71</td>\n",
              "      <td>269.26</td>\n",
              "      <td>204.251309</td>\n",
              "    </tr>\n",
              "  </tbody>\n",
              "</table>\n",
              "</div>"
            ],
            "text/plain": [
              "      Unix_Timestamp             Date  Symbol  ...     Low   Close      Volume\n",
              "2032    1.444277e+09   10/8/2015 4:00  BTCUSD  ...    0.00  243.60   34.754703\n",
              "2031    1.444363e+09   10/9/2015 4:00  BTCUSD  ...  243.60  245.51   61.587068\n",
              "2030    1.444450e+09  10/10/2015 4:00  BTCUSD  ...  244.60  246.30   30.870549\n",
              "2029    1.444536e+09  10/11/2015 4:00  BTCUSD  ...  245.96  248.98   22.747091\n",
              "2028    1.444622e+09  10/12/2015 4:00  BTCUSD  ...  245.75  245.75   71.047743\n",
              "2027    1.444709e+09  10/13/2015 4:00  BTCUSD  ...  245.75  251.00  154.686596\n",
              "2026    1.444795e+09  10/14/2015 4:00  BTCUSD  ...  250.70  254.59  184.552069\n",
              "2025    1.444882e+09  10/15/2015 4:00  BTCUSD  ...  253.00  257.19  410.961930\n",
              "2024    1.444968e+09  10/16/2015 4:00  BTCUSD  ...  255.90  270.00  552.129457\n",
              "2023    1.445054e+09  10/17/2015 4:00  BTCUSD  ...  267.71  269.26  204.251309\n",
              "\n",
              "[10 rows x 8 columns]"
            ]
          },
          "metadata": {
            "tags": []
          },
          "execution_count": 363
        }
      ]
    },
    {
      "cell_type": "code",
      "metadata": {
        "id": "JPurNu5QuMBV",
        "colab": {
          "base_uri": "https://localhost:8080/",
          "height": 297
        },
        "outputId": "e7bd1bf7-c447-4250-e7b9-55b2570a93c0"
      },
      "source": [
        "usd.describe()"
      ],
      "execution_count": 364,
      "outputs": [
        {
          "output_type": "execute_result",
          "data": {
            "text/html": [
              "<div>\n",
              "<style scoped>\n",
              "    .dataframe tbody tr th:only-of-type {\n",
              "        vertical-align: middle;\n",
              "    }\n",
              "\n",
              "    .dataframe tbody tr th {\n",
              "        vertical-align: top;\n",
              "    }\n",
              "\n",
              "    .dataframe thead th {\n",
              "        text-align: right;\n",
              "    }\n",
              "</style>\n",
              "<table border=\"1\" class=\"dataframe\">\n",
              "  <thead>\n",
              "    <tr style=\"text-align: right;\">\n",
              "      <th></th>\n",
              "      <th>Unix_Timestamp</th>\n",
              "      <th>Open</th>\n",
              "      <th>High</th>\n",
              "      <th>Low</th>\n",
              "      <th>Close</th>\n",
              "      <th>Volume</th>\n",
              "    </tr>\n",
              "  </thead>\n",
              "  <tbody>\n",
              "    <tr>\n",
              "      <th>count</th>\n",
              "      <td>2.033000e+03</td>\n",
              "      <td>2033.000000</td>\n",
              "      <td>2033.000000</td>\n",
              "      <td>2033.000000</td>\n",
              "      <td>2033.000000</td>\n",
              "      <td>2033.000000</td>\n",
              "    </tr>\n",
              "    <tr>\n",
              "      <th>mean</th>\n",
              "      <td>9.462626e+11</td>\n",
              "      <td>8346.890207</td>\n",
              "      <td>8616.676450</td>\n",
              "      <td>8073.296454</td>\n",
              "      <td>8375.274830</td>\n",
              "      <td>3465.056484</td>\n",
              "    </tr>\n",
              "    <tr>\n",
              "      <th>std</th>\n",
              "      <td>7.662909e+11</td>\n",
              "      <td>11250.645616</td>\n",
              "      <td>11644.561215</td>\n",
              "      <td>10840.225414</td>\n",
              "      <td>11302.539419</td>\n",
              "      <td>4115.930522</td>\n",
              "    </tr>\n",
              "    <tr>\n",
              "      <th>min</th>\n",
              "      <td>1.444277e+09</td>\n",
              "      <td>0.000000</td>\n",
              "      <td>245.000000</td>\n",
              "      <td>0.000000</td>\n",
              "      <td>243.600000</td>\n",
              "      <td>0.000000</td>\n",
              "    </tr>\n",
              "    <tr>\n",
              "      <th>25%</th>\n",
              "      <td>1.488168e+09</td>\n",
              "      <td>1054.410000</td>\n",
              "      <td>1085.510000</td>\n",
              "      <td>1023.580000</td>\n",
              "      <td>1055.000000</td>\n",
              "      <td>1100.412365</td>\n",
              "    </tr>\n",
              "    <tr>\n",
              "      <th>50%</th>\n",
              "      <td>1.532060e+12</td>\n",
              "      <td>6420.520000</td>\n",
              "      <td>6555.000000</td>\n",
              "      <td>6330.000000</td>\n",
              "      <td>6420.520000</td>\n",
              "      <td>2098.193968</td>\n",
              "    </tr>\n",
              "    <tr>\n",
              "      <th>75%</th>\n",
              "      <td>1.575950e+12</td>\n",
              "      <td>9515.670000</td>\n",
              "      <td>9750.320000</td>\n",
              "      <td>9257.770000</td>\n",
              "      <td>9518.310000</td>\n",
              "      <td>4145.152145</td>\n",
              "    </tr>\n",
              "    <tr>\n",
              "      <th>max</th>\n",
              "      <td>1.619840e+12</td>\n",
              "      <td>63773.180000</td>\n",
              "      <td>64900.000000</td>\n",
              "      <td>62045.000000</td>\n",
              "      <td>63773.180000</td>\n",
              "      <td>54142.433520</td>\n",
              "    </tr>\n",
              "  </tbody>\n",
              "</table>\n",
              "</div>"
            ],
            "text/plain": [
              "       Unix_Timestamp          Open  ...         Close        Volume\n",
              "count    2.033000e+03   2033.000000  ...   2033.000000   2033.000000\n",
              "mean     9.462626e+11   8346.890207  ...   8375.274830   3465.056484\n",
              "std      7.662909e+11  11250.645616  ...  11302.539419   4115.930522\n",
              "min      1.444277e+09      0.000000  ...    243.600000      0.000000\n",
              "25%      1.488168e+09   1054.410000  ...   1055.000000   1100.412365\n",
              "50%      1.532060e+12   6420.520000  ...   6420.520000   2098.193968\n",
              "75%      1.575950e+12   9515.670000  ...   9518.310000   4145.152145\n",
              "max      1.619840e+12  63773.180000  ...  63773.180000  54142.433520\n",
              "\n",
              "[8 rows x 6 columns]"
            ]
          },
          "metadata": {
            "tags": []
          },
          "execution_count": 364
        }
      ]
    },
    {
      "cell_type": "code",
      "metadata": {
        "id": "iVCE7s8xvg2o",
        "colab": {
          "base_uri": "https://localhost:8080/",
          "height": 530
        },
        "outputId": "3e961390-759a-4028-f751-125d1fc69c27"
      },
      "source": [
        "time_plot = plt.figure(figsize=(16,8))\n",
        "usd['Date'] = pd.to_datetime(usd['Date'])\n",
        "usd.index = usd['Date']\n",
        "time_plot = plt.plot(usd['Close'], label='Close Price history')\n",
        "time_plot = plt.xlabel('Time (Years)')\n",
        "time_plot = plt.ylabel('Price (USD)')\n",
        "time_plot = plt.title('Price of Bitcoin Cryptocurrency over Time')\n",
        "time_plot\n",
        "print(type(time_plot))"
      ],
      "execution_count": 366,
      "outputs": [
        {
          "output_type": "stream",
          "text": [
            "<class 'matplotlib.text.Text'>\n"
          ],
          "name": "stdout"
        },
        {
          "output_type": "display_data",
          "data": {
            "image/png": "[encoded data removed]",
            "text/plain": [
              "<Figure size 1152x576 with 1 Axes>"
            ]
          },
          "metadata": {
            "tags": [],
            "needs_background": "light"
          }
        }
      ]
    },
    {
      "cell_type": "code",
      "metadata": {
        "colab": {
          "base_uri": "https://localhost:8080/"
        },
        "id": "-iDqgUJE8q16",
        "outputId": "2d147cd4-a1fe-4071-caff-6ccbbaa523c2"
      },
      "source": [
        "# We dropped the unix timestamp column which was just a number represented the time and the symbol was all ETHUSD for the pairing\n",
        "data = usd.copy()\n",
        "data = data.drop(columns=['Unix_Timestamp', 'Symbol'])\n",
        "data.columns\n",
        "#We installed fastai and used the add_datepart to add date features such as dayofweek and dayofyear\n",
        "from fastai.tabular import  add_datepart\n",
        "add_datepart(data, 'Date')\n",
        "data.drop('Elapsed', axis=1, inplace=True)  #elapsed will be the time stamp\n"
      ],
      "execution_count": null,
      "outputs": [
        {
          "output_type": "stream",
          "text": [
            "/usr/local/lib/python3.7/dist-packages/fastai/tabular/transform.py:63: FutureWarning: Series.dt.weekofyear and Series.dt.week have been deprecated.  Please use Series.dt.isocalendar().week instead.\n",
            "  for n in attr: df[prefix + n] = getattr(field.dt, n.lower())\n"
          ],
          "name": "stderr"
        }
      ]
    },
    {
      "cell_type": "markdown",
      "metadata": {
        "id": "NAJx0DsFqbkI"
      },
      "source": [
        "## Recurrent Neural Network Predictor\n",
        "\n",
        "For this part, we search up common ways to predict the prices of stocks and we found that a class of Recurrent Neural Network called Long Short-Term Memory which specializes in prediction problems relating to chronological data. "
      ]
    },
    {
      "cell_type": "markdown",
      "metadata": {
        "id": "noqXH20ifp2d"
      },
      "source": [
        "###Input"
      ]
    },
    {
      "cell_type": "code",
      "metadata": {
        "id": "QFTuId8Rbw1Z"
      },
      "source": [
        "from keras.preprocessing.sequence import TimeseriesGenerator"
      ],
      "execution_count": 367,
      "outputs": []
    },
    {
      "cell_type": "code",
      "metadata": {
        "id": "VRZIm-NAZ6ss"
      },
      "source": [
        "csv_path = \"gemini_BTCUSD_day.csv\"\n",
        "df = pd.read_csv(csv_path)\n",
        "df.rename(columns={'Unix Timestamp':'Unix_Timestamp'}, inplace=True)\n",
        "df = df.sort_values(by=['Unix_Timestamp'], ascending=True)"
      ],
      "execution_count": 368,
      "outputs": []
    },
    {
      "cell_type": "code",
      "metadata": {
        "colab": {
          "base_uri": "https://localhost:8080/",
          "height": 450
        },
        "id": "RBO8tdWIaFTY",
        "outputId": "df30dc9d-064a-4f39-acaf-691929e8cdfd"
      },
      "source": [
        "df['Date'] = pd.to_datetime(df['Date'])\n",
        "df.set_axis(df['Date'], inplace=True)\n",
        "df.drop(columns=['Open', 'High', 'Low', 'Volume', 'Symbol', 'Unix_Timestamp'], inplace=True)\n",
        "df"
      ],
      "execution_count": 369,
      "outputs": [
        {
          "output_type": "execute_result",
          "data": {
            "text/html": [
              "<div>\n",
              "<style scoped>\n",
              "    .dataframe tbody tr th:only-of-type {\n",
              "        vertical-align: middle;\n",
              "    }\n",
              "\n",
              "    .dataframe tbody tr th {\n",
              "        vertical-align: top;\n",
              "    }\n",
              "\n",
              "    .dataframe thead th {\n",
              "        text-align: right;\n",
              "    }\n",
              "</style>\n",
              "<table border=\"1\" class=\"dataframe\">\n",
              "  <thead>\n",
              "    <tr style=\"text-align: right;\">\n",
              "      <th></th>\n",
              "      <th>Date</th>\n",
              "      <th>Close</th>\n",
              "    </tr>\n",
              "    <tr>\n",
              "      <th>Date</th>\n",
              "      <th></th>\n",
              "      <th></th>\n",
              "    </tr>\n",
              "  </thead>\n",
              "  <tbody>\n",
              "    <tr>\n",
              "      <th>2015-10-08 04:00:00</th>\n",
              "      <td>2015-10-08 04:00:00</td>\n",
              "      <td>243.60</td>\n",
              "    </tr>\n",
              "    <tr>\n",
              "      <th>2015-10-09 04:00:00</th>\n",
              "      <td>2015-10-09 04:00:00</td>\n",
              "      <td>245.51</td>\n",
              "    </tr>\n",
              "    <tr>\n",
              "      <th>2015-10-10 04:00:00</th>\n",
              "      <td>2015-10-10 04:00:00</td>\n",
              "      <td>246.30</td>\n",
              "    </tr>\n",
              "    <tr>\n",
              "      <th>2015-10-11 04:00:00</th>\n",
              "      <td>2015-10-11 04:00:00</td>\n",
              "      <td>248.98</td>\n",
              "    </tr>\n",
              "    <tr>\n",
              "      <th>2015-10-12 04:00:00</th>\n",
              "      <td>2015-10-12 04:00:00</td>\n",
              "      <td>245.75</td>\n",
              "    </tr>\n",
              "    <tr>\n",
              "      <th>...</th>\n",
              "      <td>...</td>\n",
              "      <td>...</td>\n",
              "    </tr>\n",
              "    <tr>\n",
              "      <th>2021-04-27 04:00:00</th>\n",
              "      <td>2021-04-27 04:00:00</td>\n",
              "      <td>54883.25</td>\n",
              "    </tr>\n",
              "    <tr>\n",
              "      <th>2021-04-28 04:00:00</th>\n",
              "      <td>2021-04-28 04:00:00</td>\n",
              "      <td>54312.41</td>\n",
              "    </tr>\n",
              "    <tr>\n",
              "      <th>2021-04-29 04:00:00</th>\n",
              "      <td>2021-04-29 04:00:00</td>\n",
              "      <td>53750.01</td>\n",
              "    </tr>\n",
              "    <tr>\n",
              "      <th>2021-04-30 04:00:00</th>\n",
              "      <td>2021-04-30 04:00:00</td>\n",
              "      <td>58272.25</td>\n",
              "    </tr>\n",
              "    <tr>\n",
              "      <th>2021-05-01 04:00:00</th>\n",
              "      <td>2021-05-01 04:00:00</td>\n",
              "      <td>57847.73</td>\n",
              "    </tr>\n",
              "  </tbody>\n",
              "</table>\n",
              "<p>2033 rows × 2 columns</p>\n",
              "</div>"
            ],
            "text/plain": [
              "                                   Date     Close\n",
              "Date                                             \n",
              "2015-10-08 04:00:00 2015-10-08 04:00:00    243.60\n",
              "2015-10-09 04:00:00 2015-10-09 04:00:00    245.51\n",
              "2015-10-10 04:00:00 2015-10-10 04:00:00    246.30\n",
              "2015-10-11 04:00:00 2015-10-11 04:00:00    248.98\n",
              "2015-10-12 04:00:00 2015-10-12 04:00:00    245.75\n",
              "...                                 ...       ...\n",
              "2021-04-27 04:00:00 2021-04-27 04:00:00  54883.25\n",
              "2021-04-28 04:00:00 2021-04-28 04:00:00  54312.41\n",
              "2021-04-29 04:00:00 2021-04-29 04:00:00  53750.01\n",
              "2021-04-30 04:00:00 2021-04-30 04:00:00  58272.25\n",
              "2021-05-01 04:00:00 2021-05-01 04:00:00  57847.73\n",
              "\n",
              "[2033 rows x 2 columns]"
            ]
          },
          "metadata": {
            "tags": []
          },
          "execution_count": 369
        }
      ]
    },
    {
      "cell_type": "code",
      "metadata": {
        "colab": {
          "base_uri": "https://localhost:8080/"
        },
        "id": "GtzX_R3ybbzM",
        "outputId": "fa3684d2-11eb-4ad3-8aa9-beb011c4a34f"
      },
      "source": [
        "close_data = df['Close'].values\n",
        "close_data = close_data.reshape((-1,1))\n",
        "\n",
        "split_percent = 0.80\n",
        "split = int(split_percent*len(close_data))\n",
        "\n",
        "close_train = close_data[:split]\n",
        "close_test = close_data[split:]\n",
        "\n",
        "date_train = df['Date'][:split]\n",
        "date_test = df['Date'][split:]\n",
        "\n",
        "print(len(close_train))\n",
        "print(len(close_test))"
      ],
      "execution_count": 370,
      "outputs": [
        {
          "output_type": "stream",
          "text": [
            "1626\n",
            "407\n"
          ],
          "name": "stdout"
        }
      ]
    },
    {
      "cell_type": "markdown",
      "metadata": {
        "id": "8zBBVU8dfwmR"
      },
      "source": [
        "###Model Training"
      ]
    },
    {
      "cell_type": "code",
      "metadata": {
        "id": "NE7TpJoAbsvV"
      },
      "source": [
        "look_back = 30\n",
        "\n",
        "train_generator = TimeseriesGenerator(close_train, close_train, length=look_back, batch_size=20)     \n",
        "test_generator = TimeseriesGenerator(close_test, close_test, length=look_back, batch_size=1)"
      ],
      "execution_count": 371,
      "outputs": []
    },
    {
      "cell_type": "code",
      "metadata": {
        "colab": {
          "base_uri": "https://localhost:8080/"
        },
        "id": "hKCzJ3gLb2Of",
        "outputId": "9ce36636-a371-4d67-e689-6f5482abeaca"
      },
      "source": [
        "from keras.models import Sequential\n",
        "from keras.layers import LSTM, Dense\n",
        "\n",
        "model = Sequential()\n",
        "model.add(LSTM(180,activation='relu',input_shape=(look_back,1),return_sequences=True))\n",
        "model.add(LSTM(50,activation='relu'))\n",
        "model.add(Dense(1))\n",
        "model.compile(optimizer='adam', loss='mse')\n",
        "\n",
        "num_epochs = 15\n",
        "model.fit_generator(train_generator, epochs=num_epochs, verbose=1)"
      ],
      "execution_count": 377,
      "outputs": [
        {
          "output_type": "stream",
          "text": [
            "/usr/local/lib/python3.7/dist-packages/tensorflow/python/keras/engine/training.py:1844: UserWarning: `Model.fit_generator` is deprecated and will be removed in a future version. Please use `Model.fit`, which supports generators.\n",
            "  warnings.warn('`Model.fit_generator` is deprecated and '\n"
          ],
          "name": "stderr"
        },
        {
          "output_type": "stream",
          "text": [
            "Epoch 1/15\n",
            "80/80 [==============================] - 8s 72ms/step - loss: 421544606.6173\n",
            "Epoch 2/15\n",
            "80/80 [==============================] - 6s 71ms/step - loss: 182468749.9259\n",
            "Epoch 3/15\n",
            "80/80 [==============================] - 6s 71ms/step - loss: 26515729.0849\n",
            "Epoch 4/15\n",
            "80/80 [==============================] - 6s 71ms/step - loss: 22288469.7037\n",
            "Epoch 5/15\n",
            "80/80 [==============================] - 6s 71ms/step - loss: 7622903.8519\n",
            "Epoch 6/15\n",
            "80/80 [==============================] - 6s 73ms/step - loss: 5871309.2404\n",
            "Epoch 7/15\n",
            "80/80 [==============================] - 6s 72ms/step - loss: 24645760.4105\n",
            "Epoch 8/15\n",
            "80/80 [==============================] - 6s 70ms/step - loss: 7450061.6605\n",
            "Epoch 9/15\n",
            "80/80 [==============================] - 6s 71ms/step - loss: 4321386.2253\n",
            "Epoch 10/15\n",
            "80/80 [==============================] - 6s 72ms/step - loss: 2275272.1698\n",
            "Epoch 11/15\n",
            "80/80 [==============================] - 6s 72ms/step - loss: 2164075.6636\n",
            "Epoch 12/15\n",
            "80/80 [==============================] - 6s 71ms/step - loss: 3727755.2191\n",
            "Epoch 13/15\n",
            "80/80 [==============================] - 6s 71ms/step - loss: 2479575.4107\n",
            "Epoch 14/15\n",
            "80/80 [==============================] - 6s 71ms/step - loss: 1396602.4041\n",
            "Epoch 15/15\n",
            "80/80 [==============================] - 6s 71ms/step - loss: 3058090.7917\n"
          ],
          "name": "stdout"
        },
        {
          "output_type": "execute_result",
          "data": {
            "text/plain": [
              "<tensorflow.python.keras.callbacks.History at 0x7f4359673f10>"
            ]
          },
          "metadata": {
            "tags": []
          },
          "execution_count": 377
        }
      ]
    },
    {
      "cell_type": "code",
      "metadata": {
        "colab": {
          "base_uri": "https://localhost:8080/"
        },
        "id": "6CCRDldPcAY5",
        "outputId": "f29432d6-a186-493c-90b3-f085e7f33500"
      },
      "source": [
        "prediction = model.predict_generator(test_generator)\n",
        "prediction"
      ],
      "execution_count": 378,
      "outputs": [
        {
          "output_type": "stream",
          "text": [
            "/usr/local/lib/python3.7/dist-packages/tensorflow/python/keras/engine/training.py:1905: UserWarning: `Model.predict_generator` is deprecated and will be removed in a future version. Please use `Model.predict`, which supports generators.\n",
            "  warnings.warn('`Model.predict_generator` is deprecated and '\n"
          ],
          "name": "stderr"
        },
        {
          "output_type": "execute_result",
          "data": {
            "text/plain": [
              "array([[ 6813.564 ],\n",
              "       [ 6781.082 ],\n",
              "       [ 7146.087 ],\n",
              "       [ 7137.5845],\n",
              "       ...,\n",
              "       [58653.02  ],\n",
              "       [59108.66  ],\n",
              "       [57183.848 ],\n",
              "       [62058.48  ]], dtype=float32)"
            ]
          },
          "metadata": {
            "tags": []
          },
          "execution_count": 378
        }
      ]
    },
    {
      "cell_type": "code",
      "metadata": {
        "colab": {
          "base_uri": "https://localhost:8080/",
          "height": 792
        },
        "id": "QMd8TNuLcMqi",
        "outputId": "74640487-d29a-4008-fdb6-d20a9ae982b1"
      },
      "source": [
        "from matplotlib.pyplot import figure\n",
        "\n",
        "figure(figsize=(16,12), dpi=80)\n",
        "plt.plot(date_train, close_train)\n",
        "\n",
        "plt.plot(date_test, close_test)\n",
        "\n",
        "plt.plot(date_test[look_back:], prediction)"
      ],
      "execution_count": 379,
      "outputs": [
        {
          "output_type": "execute_result",
          "data": {
            "text/plain": [
              "[<matplotlib.lines.Line2D at 0x7f43588a1ed0>]"
            ]
          },
          "metadata": {
            "tags": []
          },
          "execution_count": 379
        },
        {
          "output_type": "display_data",
          "data": {
            "image/png": "[encoded data removed]",
            "text/plain": [
              "<Figure size 1280x960 with 1 Axes>"
            ]
          },
          "metadata": {
            "tags": [],
            "needs_background": "light"
          }
        }
      ]
    },
    {
      "cell_type": "code",
      "metadata": {
        "id": "6PcEXU1Ud78I"
      },
      "source": [
        "close_data = close_data.reshape((-1))\n",
        "\n",
        "def predict(num_prediction, model):\n",
        "    prediction_list = close_data[-look_back:]\n",
        "    \n",
        "    for _ in range(num_prediction):\n",
        "        x = prediction_list[-look_back:]\n",
        "        x = x.reshape((1, look_back, 1))\n",
        "        out = model.predict(x)[0][0]\n",
        "        prediction_list = np.append(prediction_list, out)\n",
        "    prediction_list = prediction_list[look_back-1:]\n",
        "        \n",
        "    return prediction_list\n",
        "    \n",
        "def predict_dates(num_prediction):\n",
        "    last_date = df['Date'].values[-1]\n",
        "    prediction_dates = pd.date_range(last_date, periods=num_prediction+1).tolist()\n",
        "    return prediction_dates\n",
        "\n",
        "num_prediction = 90\n",
        "forecast = predict(num_prediction, model)\n",
        "forecast_dates = predict_dates(num_prediction)"
      ],
      "execution_count": 380,
      "outputs": []
    },
    {
      "cell_type": "code",
      "metadata": {
        "colab": {
          "base_uri": "https://localhost:8080/",
          "height": 846
        },
        "id": "4ADzRvjjeFFu",
        "outputId": "bfe5ea29-bfbb-4607-cd90-c81c8c07cc94"
      },
      "source": [
        "from matplotlib.pyplot import figure\n",
        "\n",
        "figure(figsize=(16,12), dpi=80)\n",
        "\n",
        "\n",
        "plt.plot(date_train, close_train)\n",
        "\n",
        "plt.plot(date_test, close_test)\n",
        "\n",
        "#plt.plot(date_test[look_back:], prediction)\n",
        "\n",
        "plt.plot(list(date_test[look_back:]) + forecast_dates[1:], list(prediction)+list(forecast[1:]))\n",
        "plt.plot(forecast_dates, forecast)"
      ],
      "execution_count": 381,
      "outputs": [
        {
          "output_type": "stream",
          "text": [
            "/usr/local/lib/python3.7/dist-packages/numpy/core/_asarray.py:136: VisibleDeprecationWarning: Creating an ndarray from ragged nested sequences (which is a list-or-tuple of lists-or-tuples-or ndarrays with different lengths or shapes) is deprecated. If you meant to do this, you must specify 'dtype=object' when creating the ndarray\n",
            "  return array(a, dtype, copy=False, order=order, subok=True)\n"
          ],
          "name": "stderr"
        },
        {
          "output_type": "execute_result",
          "data": {
            "text/plain": [
              "[<matplotlib.lines.Line2D at 0x7f4363845550>]"
            ]
          },
          "metadata": {
            "tags": []
          },
          "execution_count": 381
        },
        {
          "output_type": "display_data",
          "data": {
            "image/png": "[encoded data removed]",
            "text/plain": [
              "<Figure size 1280x960 with 1 Axes>"
            ]
          },
          "metadata": {
            "tags": [],
            "needs_background": "light"
          }
        }
      ]
    },
    {
      "cell_type": "markdown",
      "metadata": {
        "id": "XC5wHhk60un1"
      },
      "source": [
        "###Data Generation\n"
      ]
    },
    {
      "cell_type": "code",
      "metadata": {
        "colab": {
          "base_uri": "https://localhost:8080/",
          "height": 450
        },
        "id": "EU9ma62SeHoX",
        "outputId": "b508c5da-078a-46ce-efd0-5c36a9ec5864"
      },
      "source": [
        "forecastDF = pd.DataFrame()\n",
        "forecastDF[\"Date\"] = forecast_dates\n",
        "forecastDF[\"Close\"] = forecast\n",
        "forecastDF.set_axis(forecastDF['Date'], inplace=True)\n",
        "forecastDF"
      ],
      "execution_count": 382,
      "outputs": [
        {
          "output_type": "execute_result",
          "data": {
            "text/html": [
              "<div>\n",
              "<style scoped>\n",
              "    .dataframe tbody tr th:only-of-type {\n",
              "        vertical-align: middle;\n",
              "    }\n",
              "\n",
              "    .dataframe tbody tr th {\n",
              "        vertical-align: top;\n",
              "    }\n",
              "\n",
              "    .dataframe thead th {\n",
              "        text-align: right;\n",
              "    }\n",
              "</style>\n",
              "<table border=\"1\" class=\"dataframe\">\n",
              "  <thead>\n",
              "    <tr style=\"text-align: right;\">\n",
              "      <th></th>\n",
              "      <th>Date</th>\n",
              "      <th>Close</th>\n",
              "    </tr>\n",
              "    <tr>\n",
              "      <th>Date</th>\n",
              "      <th></th>\n",
              "      <th></th>\n",
              "    </tr>\n",
              "  </thead>\n",
              "  <tbody>\n",
              "    <tr>\n",
              "      <th>2021-05-01 04:00:00</th>\n",
              "      <td>2021-05-01 04:00:00</td>\n",
              "      <td>57847.730000</td>\n",
              "    </tr>\n",
              "    <tr>\n",
              "      <th>2021-05-02 04:00:00</th>\n",
              "      <td>2021-05-02 04:00:00</td>\n",
              "      <td>62075.179688</td>\n",
              "    </tr>\n",
              "    <tr>\n",
              "      <th>2021-05-03 04:00:00</th>\n",
              "      <td>2021-05-03 04:00:00</td>\n",
              "      <td>61829.171875</td>\n",
              "    </tr>\n",
              "    <tr>\n",
              "      <th>2021-05-04 04:00:00</th>\n",
              "      <td>2021-05-04 04:00:00</td>\n",
              "      <td>63263.035156</td>\n",
              "    </tr>\n",
              "    <tr>\n",
              "      <th>2021-05-05 04:00:00</th>\n",
              "      <td>2021-05-05 04:00:00</td>\n",
              "      <td>63955.328125</td>\n",
              "    </tr>\n",
              "    <tr>\n",
              "      <th>...</th>\n",
              "      <td>...</td>\n",
              "      <td>...</td>\n",
              "    </tr>\n",
              "    <tr>\n",
              "      <th>2021-07-26 04:00:00</th>\n",
              "      <td>2021-07-26 04:00:00</td>\n",
              "      <td>71005.320312</td>\n",
              "    </tr>\n",
              "    <tr>\n",
              "      <th>2021-07-27 04:00:00</th>\n",
              "      <td>2021-07-27 04:00:00</td>\n",
              "      <td>62986.644531</td>\n",
              "    </tr>\n",
              "    <tr>\n",
              "      <th>2021-07-28 04:00:00</th>\n",
              "      <td>2021-07-28 04:00:00</td>\n",
              "      <td>70543.796875</td>\n",
              "    </tr>\n",
              "    <tr>\n",
              "      <th>2021-07-29 04:00:00</th>\n",
              "      <td>2021-07-29 04:00:00</td>\n",
              "      <td>63314.734375</td>\n",
              "    </tr>\n",
              "    <tr>\n",
              "      <th>2021-07-30 04:00:00</th>\n",
              "      <td>2021-07-30 04:00:00</td>\n",
              "      <td>67111.226562</td>\n",
              "    </tr>\n",
              "  </tbody>\n",
              "</table>\n",
              "<p>91 rows × 2 columns</p>\n",
              "</div>"
            ],
            "text/plain": [
              "                                   Date         Close\n",
              "Date                                                 \n",
              "2021-05-01 04:00:00 2021-05-01 04:00:00  57847.730000\n",
              "2021-05-02 04:00:00 2021-05-02 04:00:00  62075.179688\n",
              "2021-05-03 04:00:00 2021-05-03 04:00:00  61829.171875\n",
              "2021-05-04 04:00:00 2021-05-04 04:00:00  63263.035156\n",
              "2021-05-05 04:00:00 2021-05-05 04:00:00  63955.328125\n",
              "...                                 ...           ...\n",
              "2021-07-26 04:00:00 2021-07-26 04:00:00  71005.320312\n",
              "2021-07-27 04:00:00 2021-07-27 04:00:00  62986.644531\n",
              "2021-07-28 04:00:00 2021-07-28 04:00:00  70543.796875\n",
              "2021-07-29 04:00:00 2021-07-29 04:00:00  63314.734375\n",
              "2021-07-30 04:00:00 2021-07-30 04:00:00  67111.226562\n",
              "\n",
              "[91 rows x 2 columns]"
            ]
          },
          "metadata": {
            "tags": []
          },
          "execution_count": 382
        }
      ]
    },
    {
      "cell_type": "code",
      "metadata": {
        "id": "8EG0NgRYn1VK"
      },
      "source": [
        "forecastDF.drop(\"Date\", axis=1).to_csv(\"fore.csv\")"
      ],
      "execution_count": 383,
      "outputs": []
    },
    {
      "cell_type": "code",
      "metadata": {
        "id": "CJ79EkAsoqG3"
      },
      "source": [
        "df.drop(\"Date\", axis=1).to_csv(\"pre.csv\")"
      ],
      "execution_count": 384,
      "outputs": []
    },
    {
      "cell_type": "markdown",
      "metadata": {
        "id": "PfgZ8haBzu9w"
      },
      "source": [
        "## Anvil Wait Forever"
      ]
    },
    {
      "cell_type": "code",
      "metadata": {
        "id": "3q--0Oj8_ACl"
      },
      "source": [
        "anvil.server.wait_forever()"
      ],
      "execution_count": null,
      "outputs": []
    }
  ]
}